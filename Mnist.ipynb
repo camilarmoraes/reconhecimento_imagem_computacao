{
  "nbformat": 4,
  "nbformat_minor": 0,
  "metadata": {
    "colab": {
      "provenance": []
    },
    "kernelspec": {
      "name": "python3",
      "display_name": "Python 3"
    },
    "language_info": {
      "name": "python"
    }
  },
  "cells": [
    {
      "cell_type": "code",
      "execution_count": 1,
      "metadata": {
        "id": "kBrvy7cDLIsi"
      },
      "outputs": [],
      "source": [
        "#Biblioteca de Aprendizado de Máquina\n",
        "import sklearn"
      ]
    },
    {
      "cell_type": "code",
      "source": [
        "#Realizando o carregamento do dataset\n",
        "from sklearn.datasets import fetch_openml\n",
        "mnist = fetch_openml('mnist_784',version=1,cache=True,as_frame=False)"
      ],
      "metadata": {
        "id": "09e86-Z0LQMO"
      },
      "execution_count": 2,
      "outputs": []
    },
    {
      "cell_type": "code",
      "source": [
        "#Visualizando rótulos de cada dado\n",
        "import numpy as np\n",
        "mnist.target = mnist.target.astype(np.int8) \n",
        "print (mnist.target)"
      ],
      "metadata": {
        "id": "yU6tlUWeLuQ6",
        "colab": {
          "base_uri": "https://localhost:8080/"
        },
        "outputId": "6f4af934-d958-4f00-c2b8-96952ddd0b19"
      },
      "execution_count": 3,
      "outputs": [
        {
          "output_type": "stream",
          "name": "stdout",
          "text": [
            "[5 0 4 ... 4 5 6]\n"
          ]
        }
      ]
    },
    {
      "cell_type": "code",
      "source": [
        "mnist.target"
      ],
      "metadata": {
        "id": "NbuH1_fDOppd",
        "colab": {
          "base_uri": "https://localhost:8080/"
        },
        "outputId": "6f4825c8-0d96-4405-e917-2b367b9c2dab"
      },
      "execution_count": 4,
      "outputs": [
        {
          "output_type": "execute_result",
          "data": {
            "text/plain": [
              "array([5, 0, 4, ..., 4, 5, 6], dtype=int8)"
            ]
          },
          "metadata": {},
          "execution_count": 4
        }
      ]
    },
    {
      "cell_type": "code",
      "source": [
        "#Separando dado de rótulo\n",
        "# X receberá os dados, Y receberá os rótulos dos mesmos\n",
        "dado, rotulo = mnist[\"data\"], mnist[\"target\"]\n",
        "print (dado.shape, rotulo.shape)"
      ],
      "metadata": {
        "id": "NBSpCPd1Or1w",
        "colab": {
          "base_uri": "https://localhost:8080/"
        },
        "outputId": "d620424c-e625-41b8-ffd5-dfd2bc8da093"
      },
      "execution_count": 5,
      "outputs": [
        {
          "output_type": "stream",
          "name": "stdout",
          "text": [
            "(70000, 784) (70000,)\n"
          ]
        }
      ]
    },
    {
      "cell_type": "code",
      "source": [
        "#Primeira visualização do dataset\n",
        "import matplotlib\n",
        "import matplotlib.pyplot as plt\n",
        "digito = dado[1960]\n",
        "digito_imagem = digito.reshape(28, 28)\n",
        "plt.imshow(digito_imagem, cmap = matplotlib.cm.binary, interpolation=\"nearest\")\n",
        "plt.axis(\"off\")\n",
        "plt.show()"
      ],
      "metadata": {
        "id": "crW9QPdJO9PN",
        "colab": {
          "base_uri": "https://localhost:8080/",
          "height": 248
        },
        "outputId": "3e8b8b8f-c510-4486-8b43-1fb4ce19cdba"
      },
      "execution_count": 6,
      "outputs": [
        {
          "output_type": "display_data",
          "data": {
            "text/plain": [
              "<Figure size 432x288 with 1 Axes>"
            ],
            "image/png": "[encoded data removed]"
          },
          "metadata": {
            "needs_background": "light"
          }
        }
      ]
    },
    {
      "cell_type": "code",
      "source": [
        "rotulo[1960]"
      ],
      "metadata": {
        "id": "wrfPk-MVPIBW",
        "colab": {
          "base_uri": "https://localhost:8080/"
        },
        "outputId": "bf99b202-93f0-4802-8164-e278c72abe9d"
      },
      "execution_count": 7,
      "outputs": [
        {
          "output_type": "execute_result",
          "data": {
            "text/plain": [
              "9"
            ]
          },
          "metadata": {},
          "execution_count": 7
        }
      ]
    },
    {
      "cell_type": "code",
      "source": [
        "#Fazendo divisão de dataset\n",
        "#1. Maneira de se fazer utilizando o próprio python (apenas se o dataset for embaralhado)\n",
        "X_train, X_test, y_train, y_test = dado[:60000], dado[60000:], rotulo[:60000], rotulo[60000:]\n"
      ],
      "metadata": {
        "id": "VVdXjqQEPRNN"
      },
      "execution_count": 8,
      "outputs": []
    },
    {
      "cell_type": "code",
      "source": [
        "#2. Maneira bacana e correta de se fazer isso \n",
        "#from sklearn.model_selection import train_test_split\n",
        "#X_train, X_test, y_train, y_test = train_test_split(dado, mnist.target, test_size=0.15, shuffle=False)"
      ],
      "metadata": {
        "id": "ruMJEodcP8Ot"
      },
      "execution_count": 9,
      "outputs": []
    },
    {
      "cell_type": "code",
      "source": [
        "#Fazendo um embaralhamento dos dados (Caso opção 1 na divisão do dataset)\n",
        "import numpy as np\n",
        "shuffle_index = np.random.permutation(60000)\n",
        "X_train, y_train = X_train[shuffle_index], y_train[shuffle_index]"
      ],
      "metadata": {
        "id": "xn5BZStoQVLs"
      },
      "execution_count": 10,
      "outputs": []
    },
    {
      "cell_type": "code",
      "source": [
        "shuffle_index"
      ],
      "metadata": {
        "id": "_Z7Bzf-gQj3Z",
        "colab": {
          "base_uri": "https://localhost:8080/"
        },
        "outputId": "3ca62343-05f2-4fa8-c30a-4c5c865b025d"
      },
      "execution_count": 11,
      "outputs": [
        {
          "output_type": "execute_result",
          "data": {
            "text/plain": [
              "array([16092, 56194, 47090, ..., 53927, 30789, 53398])"
            ]
          },
          "metadata": {},
          "execution_count": 11
        }
      ]
    },
    {
      "cell_type": "code",
      "source": [
        "# Vamos limitar os dados a serem executados, do contrário o kernel do google colab vai morrer por conta da ram.\n",
        "y_train_5 = (y_train == 5)\n",
        "y_test_5 = (y_test == 5)"
      ],
      "metadata": {
        "id": "gE_diCrVW9Qr"
      },
      "execution_count": 12,
      "outputs": []
    },
    {
      "cell_type": "code",
      "source": [
        "# Vamos realizar o treinamento de um modelo ....."
      ],
      "metadata": {
        "id": "UD1d3FyVQw0K"
      },
      "execution_count": 13,
      "outputs": []
    },
    {
      "cell_type": "code",
      "source": [
        "#Neste caso em específico, vamos treinar utilizando um modelo de árvore de decisão\n",
        "from sklearn.tree import DecisionTreeClassifier\n",
        "\n",
        "arvore_decisao = DecisionTreeClassifier(random_state=42)\n",
        "arvore_decisao.fit(X_train, y_train_5)\n",
        "resultado_arvore = arvore_decisao.predict(X_test)"
      ],
      "metadata": {
        "id": "7ad1qiq5Q_h2"
      },
      "execution_count": 14,
      "outputs": []
    },
    {
      "cell_type": "code",
      "source": [
        "from sklearn.metrics import accuracy_score\n",
        "accuracy_score(y_test_5,resultado_arvore)"
      ],
      "metadata": {
        "id": "RLDS6fHhRbRP",
        "colab": {
          "base_uri": "https://localhost:8080/"
        },
        "outputId": "305bc8fc-4f93-4362-8a1a-217258230de8"
      },
      "execution_count": 15,
      "outputs": [
        {
          "output_type": "execute_result",
          "data": {
            "text/plain": [
              "0.9746"
            ]
          },
          "metadata": {},
          "execution_count": 15
        }
      ]
    },
    {
      "cell_type": "code",
      "source": [
        "#Utilizando outro modelo!\n",
        "from sklearn.ensemble import RandomForestClassifier\n",
        "forest = RandomForestClassifier(random_state=42) #Criando o objeto do algoritmo\n",
        "forest.fit(X_train, y_train_5) # realizando o treinamento\n",
        "resultado = forest.predict(X_test)"
      ],
      "metadata": {
        "id": "zUl-5ia3Sl56"
      },
      "execution_count": 16,
      "outputs": []
    },
    {
      "cell_type": "code",
      "source": [
        "# Utilizando a acurácia para ter uma noção do quão bom foi nosso modelo\n",
        "from sklearn.metrics import accuracy_score\n",
        "accuracy_score(y_test_5,resultado)"
      ],
      "metadata": {
        "id": "8U3hk1vMS70s",
        "colab": {
          "base_uri": "https://localhost:8080/"
        },
        "outputId": "dc705c00-5fdc-411a-8a4d-8ab234a5c5d5"
      },
      "execution_count": 17,
      "outputs": [
        {
          "output_type": "execute_result",
          "data": {
            "text/plain": [
              "0.9877"
            ]
          },
          "metadata": {},
          "execution_count": 17
        }
      ]
    }
  ]
}