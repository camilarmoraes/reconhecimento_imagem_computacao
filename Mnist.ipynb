{
  "cells": [
    {
      "cell_type": "code",
      "execution_count": 1,
      "metadata": {
        "id": "kBrvy7cDLIsi"
      },
      "outputs": [],
      "source": [
        "#Biblioteca de Aprendizado de Máquina\n",
        "import sklearn"
      ]
    },
    {
      "cell_type": "code",
      "execution_count": 2,
      "metadata": {
        "id": "09e86-Z0LQMO"
      },
      "outputs": [],
      "source": [
        "#Realizando o carregamento do dataset\n",
        "from sklearn.datasets import fetch_openml\n",
        "mnist = fetch_openml('mnist_784',version=1,cache=True,as_frame=False)"
      ]
    },
    {
      "cell_type": "code",
      "execution_count": 3,
      "metadata": {
        "colab": {
          "base_uri": "https://localhost:8080/"
        },
        "id": "yU6tlUWeLuQ6",
        "outputId": "edfdd31d-9d3a-4ae1-8c85-0e73cf0906f9"
      },
      "outputs": [
        {
          "name": "stdout",
          "output_type": "stream",
          "text": [
            "[5 0 4 ... 4 5 6]\n"
          ]
        }
      ],
      "source": [
        "#Visualizando rótulos de cada dado\n",
        "import numpy as np\n",
        "mnist.target = mnist.target.astype(np.int8) \n",
        "print (mnist.target)"
      ]
    },
    {
      "cell_type": "code",
      "execution_count": 4,
      "metadata": {
        "colab": {
          "base_uri": "https://localhost:8080/"
        },
        "id": "NbuH1_fDOppd",
        "outputId": "e59190ae-594a-41cb-f051-0ece11fa6497"
      },
      "outputs": [
        {
          "data": {
            "text/plain": [
              "array([5, 0, 4, ..., 4, 5, 6], dtype=int8)"
            ]
          },
          "execution_count": 4,
          "metadata": {},
          "output_type": "execute_result"
        }
      ],
      "source": [
        "mnist.target"
      ]
    },
    {
      "cell_type": "code",
      "execution_count": 5,
      "metadata": {
        "colab": {
          "base_uri": "https://localhost:8080/"
        },
        "id": "NBSpCPd1Or1w",
        "outputId": "ebe084bc-a1d0-4b94-b5f4-964894198913"
      },
      "outputs": [
        {
          "name": "stdout",
          "output_type": "stream",
          "text": [
            "(70000, 784) (70000,)\n"
          ]
        }
      ],
      "source": [
        "#Separando dado de rótulo\n",
        "# X receberá os dados, Y receberá os rótulos dos mesmos\n",
        "dado, rotulo = mnist[\"data\"], mnist[\"target\"]\n",
        "print (dado.shape, rotulo.shape)"
      ]
    },
    {
      "cell_type": "code",
      "execution_count": 6,
      "metadata": {
        "colab": {
          "base_uri": "https://localhost:8080/",
          "height": 248
        },
        "id": "crW9QPdJO9PN",
        "outputId": "f8c7c734-f03d-46b8-d40b-ffb52f73321b"
      },
      "outputs": [
        {
          "data": {
            "image/png": "[encoded data removed]",
            "text/plain": [
              "<Figure size 432x288 with 1 Axes>"
            ]
          },
          "metadata": {
            "needs_background": "light"
          },
          "output_type": "display_data"
        }
      ],
      "source": [
        "#Primeira visualização do dataset\n",
        "import matplotlib\n",
        "import matplotlib.pyplot as plt\n",
        "digito = dado[1960]\n",
        "digito_imagem = digito.reshape(28, 28)\n",
        "plt.imshow(digito_imagem, cmap = matplotlib.cm.binary, interpolation=\"nearest\")\n",
        "plt.axis(\"off\")\n",
        "plt.show()"
      ]
    },
    {
      "cell_type": "code",
      "execution_count": null,
      "metadata": {
        "colab": {
          "base_uri": "https://localhost:8080/"
        },
        "id": "wrfPk-MVPIBW",
        "outputId": "f3b7a743-1922-4fda-d1a5-92a5248efcbf"
      },
      "outputs": [
        {
          "data": {
            "text/plain": [
              "9"
            ]
          },
          "execution_count": 9,
          "metadata": {},
          "output_type": "execute_result"
        }
      ],
      "source": [
        "rotulo[1960]"
      ]
    },
    {
      "cell_type": "code",
      "execution_count": 7,
      "metadata": {
        "id": "VVdXjqQEPRNN"
      },
      "outputs": [],
      "source": [
        "#Fazendo divisão de dataset\n",
        "#1. Maneira de se fazer utilizando o próprio python (apenas se o dataset for embaralhado)\n",
        "X_train, X_test, y_train, y_test = dado[:60000], dado[60000:], rotulo[:60000], rotulo[60000:]\n"
      ]
    },
    {
      "cell_type": "code",
      "execution_count": null,
      "metadata": {
        "id": "ruMJEodcP8Ot"
      },
      "outputs": [],
      "source": [
        "#2. Maneira bacana e correta de se fazer isso \n",
        "#from sklearn.model_selection import train_test_split\n",
        "#X_train, X_test, y_train, y_test = train_test_split(dado, mnist.target, test_size=0.15, shuffle=False)"
      ]
    },
    {
      "cell_type": "code",
      "execution_count": 8,
      "metadata": {
        "id": "xn5BZStoQVLs"
      },
      "outputs": [],
      "source": [
        "#Fazendo um embaralhamento dos dados (Caso opção 1 na divisão do dataset)\n",
        "import numpy as np\n",
        "shuffle_index = np.random.permutation(60000)\n",
        "X_train, y_train = X_train[shuffle_index], y_train[shuffle_index]"
      ]
    },
    {
      "cell_type": "code",
      "execution_count": null,
      "metadata": {
        "colab": {
          "base_uri": "https://localhost:8080/"
        },
        "id": "_Z7Bzf-gQj3Z",
        "outputId": "7b66d9fa-8d64-4209-f9fe-b53edf0e3f32"
      },
      "outputs": [
        {
          "data": {
            "text/plain": [
              "array([37385, 10152, 20656, ..., 40434,  7240, 41536])"
            ]
          },
          "execution_count": 13,
          "metadata": {},
          "output_type": "execute_result"
        }
      ],
      "source": [
        "shuffle_index"
      ]
    },
    {
      "cell_type": "code",
      "execution_count": 9,
      "metadata": {
        "id": "gE_diCrVW9Qr"
      },
      "outputs": [],
      "source": [
        "# Vamos limitar os dados a serem executados, do contrário o kernel do google colab vai morrer por conta da ram.\n",
        "y_train_5 = (y_train == 5)\n",
        "y_test_5 = (y_test == 5)"
      ]
    },
    {
      "cell_type": "code",
      "execution_count": null,
      "metadata": {
        "id": "UD1d3FyVQw0K"
      },
      "outputs": [],
      "source": [
        "# Vamos realizar o treinamento de um modelo ....."
      ]
    },
    {
      "cell_type": "code",
      "execution_count": null,
      "metadata": {
        "id": "7ad1qiq5Q_h2"
      },
      "outputs": [],
      "source": [
        "#Neste caso em específico, vamos treinar utilizando um modelo de árvore de decisão\n",
        "from sklearn.tree import DecisionTreeClassifier\n",
        "\n",
        "arvore_decisao = DecisionTreeClassifier(random_state=42)\n",
        "arvore_decisao.fit(X_train, y_train_5)\n",
        "resultado_arvore = arvore_decisao.predict(X_test)"
      ]
    },
    {
      "cell_type": "code",
      "execution_count": null,
      "metadata": {
        "id": "RLDS6fHhRbRP"
      },
      "outputs": [],
      "source": [
        "from sklearn.metrics import accuracy_score\n",
        "accuracy_score(y_test_5,resultado_arvore)"
      ]
    },
    {
      "cell_type": "code",
      "execution_count": null,
      "metadata": {
        "id": "zUl-5ia3Sl56"
      },
      "outputs": [],
      "source": [
        "#Utilizando outro modelo!\n",
        "from sklearn.ensemble import RandomForestClassifier\n",
        "forest = RandomForestClassifier(random_state=42) #Criando o objeto do algoritmo\n",
        "forest.fit(X_train, y_train_5) # realizando o treinamento\n",
        "resultado = forest.predict(X_test)"
      ]
    },
    {
      "cell_type": "code",
      "execution_count": null,
      "metadata": {
        "id": "8U3hk1vMS70s"
      },
      "outputs": [],
      "source": [
        "# Utilizando a acurácia para ter uma noção do quão bom foi nosso modelo\n",
        "from sklearn.metrics import accuracy_score\n",
        "accuracy_score(y_test_5,resultado)"
      ]
    }
  ],
  "metadata": {
    "colab": {
      "provenance": []
    },
    "kernelspec": {
      "display_name": "Python 3",
      "name": "python3"
    },
    "language_info": {
      "name": "python"
    }
  },
  "nbformat": 4,
  "nbformat_minor": 0
}
